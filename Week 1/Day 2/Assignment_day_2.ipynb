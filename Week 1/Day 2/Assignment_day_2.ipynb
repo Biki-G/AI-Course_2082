{
  "nbformat": 4,
  "nbformat_minor": 0,
  "metadata": {
    "colab": {
      "provenance": []
    },
    "kernelspec": {
      "name": "python3",
      "display_name": "Python 3"
    },
    "language_info": {
      "name": "python"
    }
  },
  "cells": [
    {
      "cell_type": "markdown",
      "source": [
        "#Convert the Currency\n",
        "\n",
        "```\n",
        "# This is formatted as code\n",
        "```\n",
        "\n"
      ],
      "metadata": {
        "id": "JpPH-aM8r1vs"
      }
    },
    {
      "cell_type": "code",
      "source": [
        "USD=133 #current fixed rate\n",
        "amount=float(input(\"Amount in NRS: \"))\n",
        "Convert=amount/USD\n",
        "print(\"Amount in US Dollar is: \", Convert)"
      ],
      "metadata": {
        "colab": {
          "base_uri": "https://localhost:8080/"
        },
        "id": "4vquFNkAsEeR",
        "outputId": "80a5e411-9186-4496-d716-70437475c22c"
      },
      "execution_count": 7,
      "outputs": [
        {
          "output_type": "stream",
          "name": "stdout",
          "text": [
            "Amount in NRS: 1330\n",
            "Amount in US Dollar is:  10.0\n"
          ]
        }
      ]
    },
    {
      "cell_type": "markdown",
      "source": [
        "#Age Calculator#"
      ],
      "metadata": {
        "id": "ULfSymQUDWvw"
      }
    },
    {
      "cell_type": "code",
      "source": [
        "birth_year = int(input(\"Enter your Birth Year: \",))\n",
        "current_year = 2025\n",
        "age = current_year-birth_year\n",
        "print(\"Your age is: \", age )"
      ],
      "metadata": {
        "colab": {
          "base_uri": "https://localhost:8080/"
        },
        "id": "CmIu5LoLDjSk",
        "outputId": "774a2b37-8005-4918-e47b-b1a440c5e2ec"
      },
      "execution_count": 10,
      "outputs": [
        {
          "output_type": "stream",
          "name": "stdout",
          "text": [
            "Enter your Birth Year: 1978\n",
            "Your age is:  47\n"
          ]
        }
      ]
    }
  ]
}