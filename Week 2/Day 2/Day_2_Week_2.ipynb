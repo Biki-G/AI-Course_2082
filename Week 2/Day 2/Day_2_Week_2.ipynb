{
  "nbformat": 4,
  "nbformat_minor": 0,
  "metadata": {
    "colab": {
      "provenance": []
    },
    "kernelspec": {
      "name": "python3",
      "display_name": "Python 3"
    },
    "language_info": {
      "name": "python"
    }
  },
  "cells": [
    {
      "cell_type": "markdown",
      "source": [
        "#Hands_On Practice: Linear Algebra for AI"
      ],
      "metadata": {
        "id": "LBncDMVg0FME"
      }
    },
    {
      "cell_type": "markdown",
      "source": [
        "Ex_1: Working with Scalar and Vectors"
      ],
      "metadata": {
        "id": "ho6NAGFU0Ur-"
      }
    },
    {
      "cell_type": "code",
      "execution_count": null,
      "metadata": {
        "colab": {
          "base_uri": "https://localhost:8080/"
        },
        "id": "1aFrAmT_z1XP",
        "outputId": "48e8e962-a55d-4a65-c358-c449c85c4dbe"
      },
      "outputs": [
        {
          "output_type": "stream",
          "name": "stdout",
          "text": [
            "0\n",
            "[ 2  3  5  9 24 39]\n",
            "[0 0 0 0 0 0]\n",
            "[ 7 10 14 33 63 90]\n"
          ]
        }
      ],
      "source": [
        "#importing numpy\n",
        "\n",
        "import numpy as np\n",
        "scaler=0\n",
        "print(scaler)\n",
        "\n",
        "vector = np.array([2,3,5,9,24,39])\n",
        "print (vector)\n",
        "\n",
        "#scaler to vector\n",
        "\n",
        "scaled_vector = scaler*vector\n",
        "print(scaled_vector)\n",
        "\n",
        "\n",
        "#additin of vectors\n",
        "\n",
        "vector1 = np.array([2,3,5,9,24,39])\n",
        "vector2 = np.array([5,7,9,24,39,51])\n",
        "\n",
        "add_vector = vector+vector2\n",
        "print(add_vector)\n",
        "\n",
        "\n"
      ]
    },
    {
      "cell_type": "markdown",
      "source": [
        "#Matrix creation and simple operation"
      ],
      "metadata": {
        "id": "vxIsHgEz2NiN"
      }
    },
    {
      "cell_type": "code",
      "source": [
        "matrix1 = np.array ([[1,2],[4,5]])\n",
        "matrix2 = np.array ([[2,3],[6,7]])\n",
        "print(matrix1)\n",
        "print(matrix2)\n",
        "\n",
        "#matrix can be multiplied if columnt of first matrix matches with rows of following matrix i.e. 2 x 2  2 x 3. Resulting matrix will be 2 x 3\n",
        "\n",
        "add_mat= matrix1+matrix2\n",
        "sub_mat= matrix1-matrix2\n",
        "prd_mat= matrix1*matrix2\n",
        "print(add_mat)\n",
        "print(sub_mat)\n",
        "print (prd_mat)"
      ],
      "metadata": {
        "colab": {
          "base_uri": "https://localhost:8080/"
        },
        "id": "9RCJdJ5w2WVt",
        "outputId": "80359391-191e-4d7c-97a5-dfb74c18980a"
      },
      "execution_count": null,
      "outputs": [
        {
          "output_type": "stream",
          "name": "stdout",
          "text": [
            "[[1 2]\n",
            " [4 5]]\n",
            "[[2 3]\n",
            " [6 7]]\n",
            "[[ 3  5]\n",
            " [10 12]]\n",
            "[[-1 -1]\n",
            " [-2 -2]]\n",
            "[[ 2  6]\n",
            " [24 35]]\n"
          ]
        }
      ]
    },
    {
      "cell_type": "markdown",
      "source": [
        "mat a mat b"
      ],
      "metadata": {
        "id": "wD-zYXf34wmA"
      }
    },
    {
      "cell_type": "code",
      "source": [
        "matA = np.array ([[1,2,3],[4,5,6],[1,2,1]])\n",
        "matB = np.array ([[1,1,2],[2,1,1],[1,2,1]])\n",
        "print (matA)\n",
        "print (matB)\n",
        "\n",
        "matmult=np.dot(matA,matB)\n",
        "\n",
        "print(matmult)"
      ],
      "metadata": {
        "colab": {
          "base_uri": "https://localhost:8080/"
        },
        "id": "wMaXfkTs40Pq",
        "outputId": "bf531520-a751-4210-e5b6-0a8cc980bea6"
      },
      "execution_count": null,
      "outputs": [
        {
          "output_type": "stream",
          "name": "stdout",
          "text": [
            "[[1 2 3]\n",
            " [4 5 6]\n",
            " [1 2 1]]\n",
            "[[1 1 2]\n",
            " [2 1 1]\n",
            " [1 2 1]]\n",
            "[[ 8  9  7]\n",
            " [20 21 19]\n",
            " [ 6  5  5]]\n"
          ]
        }
      ]
    },
    {
      "cell_type": "markdown",
      "source": [
        "matrix product by index\n",
        "\n"
      ],
      "metadata": {
        "id": "pnarCh868lAm"
      }
    },
    {
      "cell_type": "code",
      "source": [
        "import numpy as np\n",
        "matA = np.array ([[1,2],[2,3]])\n",
        "matB = np.array ([[3,1],[4,6]])\n",
        "print (matA)\n",
        "print (matB)\n",
        "#matpro = [matA[0,0] * matB[0,0], matA [0,1]* matB[1,0]], #[matA[1,0] * matB[0,0], matA [1,1]* matB[1,0], []],\n",
        "print(matpro)"
      ],
      "metadata": {
        "colab": {
          "base_uri": "https://localhost:8080/"
        },
        "id": "rx26fFrq2Vzl",
        "outputId": "be0bdc1c-5ecd-40ce-b6dc-f65fa3e16b37"
      },
      "execution_count": null,
      "outputs": [
        {
          "output_type": "stream",
          "name": "stdout",
          "text": [
            "[[1 2]\n",
            " [2 3]]\n",
            "[[3 1]\n",
            " [4 6]]\n",
            "([np.int64(3), np.int64(8)],)\n"
          ]
        }
      ]
    },
    {
      "cell_type": "markdown",
      "source": [],
      "metadata": {
        "id": "xDKgyG-EAnHY"
      }
    }
  ]
}