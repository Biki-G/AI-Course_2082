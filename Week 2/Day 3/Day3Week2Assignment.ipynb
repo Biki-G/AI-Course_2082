{
  "nbformat": 4,
  "nbformat_minor": 0,
  "metadata": {
    "colab": {
      "provenance": []
    },
    "kernelspec": {
      "name": "python3",
      "display_name": "Python 3"
    },
    "language_info": {
      "name": "python"
    }
  },
  "cells": [
    {
      "cell_type": "markdown",
      "source": [
        "TASKs"
      ],
      "metadata": {
        "id": "Wuh3_YKQPQcR"
      }
    },
    {
      "cell_type": "markdown",
      "source": [
        "1. Red cards in a Book of Cards"
      ],
      "metadata": {
        "id": "axsYm6UpAuyT"
      }
    },
    {
      "cell_type": "code",
      "source": [
        "red_cards = 26\n",
        "total_cards = 52\n",
        "\n",
        "probability = red_cards/total_cards\n",
        "print(\"Chance of getting a Red Card is: \",probability)"
      ],
      "metadata": {
        "colab": {
          "base_uri": "https://localhost:8080/"
        },
        "id": "HlU39j_mA0iT",
        "outputId": "dae2083c-8576-4cf1-b80b-9cdfb9f51477"
      },
      "execution_count": 2,
      "outputs": [
        {
          "output_type": "stream",
          "name": "stdout",
          "text": [
            "Chance of getting a Red Card is:  0.5\n"
          ]
        }
      ]
    },
    {
      "cell_type": "markdown",
      "source": [
        "Rainy Days"
      ],
      "metadata": {
        "id": "9CecVNiABZRx"
      }
    },
    {
      "cell_type": "code",
      "source": [
        "Total_days = 100\n",
        "Rainy_days = 30\n",
        "Days_wiht_umbrella = 25\n",
        "\n",
        "cond_prob = Days_wiht_umbrella/Rainy_days\n",
        "\n",
        "print(\"Condition of Getting a King Card is :\", cond_prob)"
      ],
      "metadata": {
        "colab": {
          "base_uri": "https://localhost:8080/"
        },
        "id": "3y1TNrJ5Bb27",
        "outputId": "567312ea-3f10-441e-9975-c6506b31755d"
      },
      "execution_count": 3,
      "outputs": [
        {
          "output_type": "stream",
          "name": "stdout",
          "text": [
            "Condition of Getting a King Card is : 0.8333333333333334\n"
          ]
        }
      ]
    },
    {
      "cell_type": "markdown",
      "source": [
        "1. 52 cards"
      ],
      "metadata": {
        "id": "_klpznUXPnkJ"
      }
    },
    {
      "cell_type": "code",
      "execution_count": null,
      "metadata": {
        "id": "dhfFE769PLaS"
      },
      "outputs": [],
      "source": [
        "total_cards= 52\n",
        "face_cards = 12\n",
        "king_cards = 4\n",
        "\n",
        "cond_prob = king_cards/face_cards\n",
        "\n",
        "print(\"Condition of Getting a King Card is :\", cond_prob)"
      ]
    },
    {
      "cell_type": "markdown",
      "source": [],
      "metadata": {
        "id": "GGSXEo38PtaY"
      }
    },
    {
      "cell_type": "markdown",
      "source": [
        "Study vs Exam"
      ],
      "metadata": {
        "id": "WRbLGYWaCJv3"
      }
    },
    {
      "cell_type": "code",
      "source": [
        "# Out of 80 students, 50 studied for the exam.\n",
        "# Out of those 50, 45 passed.\n",
        "# What is the probability a student passed given that they studied?\n",
        "total_students= 80\n",
        "stud_studied = 50\n",
        "stud_passed = 45\n",
        "\n",
        "cond_prob = stud_passed/stud_studied\n",
        "\n",
        "print(\"Condition of Getting a King Card is :\", cond_prob)\n"
      ],
      "metadata": {
        "colab": {
          "base_uri": "https://localhost:8080/"
        },
        "id": "L6kJ28c6CNsw",
        "outputId": "b5b57eaf-3fe7-4423-cf5c-47ad0376a861"
      },
      "execution_count": 4,
      "outputs": [
        {
          "output_type": "stream",
          "name": "stdout",
          "text": [
            "Condition of Getting a King Card is : 0.9\n"
          ]
        }
      ]
    },
    {
      "cell_type": "markdown",
      "source": [
        "Heart or Club(mutually exclusive event)"
      ],
      "metadata": {
        "id": "cClNNldyC576"
      }
    },
    {
      "cell_type": "code",
      "source": [
        "# Task 4: Calculate the probability of drawing a heart or a club from a deck (13\n",
        "# hearts, 13 clubs, mutually exclusive). Print the result.\n",
        "\n",
        "prob_heart = 1 / 4\n",
        "prob_club = 1 / 4\n",
        "\n",
        "prob_heart_or_club = prob_heart + prob_club #here we combine both probability\n",
        "print(\"Either  getting Heart or Club from card decj is :\", prob_heart_or_club)\n",
        "\n"
      ],
      "metadata": {
        "colab": {
          "base_uri": "https://localhost:8080/"
        },
        "id": "XsrRpGZEDAkn",
        "outputId": "331c1c5f-38ab-4841-f528-01e8401c60c3"
      },
      "execution_count": 6,
      "outputs": [
        {
          "output_type": "stream",
          "name": "stdout",
          "text": [
            "Either  getting Heart or Club from card decj is : 0.5\n"
          ]
        }
      ]
    },
    {
      "cell_type": "markdown",
      "source": [
        "getting 6 twice in dice roll"
      ],
      "metadata": {
        "id": "Tj2vdlchET2B"
      }
    },
    {
      "cell_type": "code",
      "source": [
        "# Task 5: Calculate the probability of rolling a 6 twice in a row with a six-sided\n",
        "# die. Print the result.\n",
        "# Question: What is the probability of getting head on a coin toss and 7 on a 6-sided die roll?\n",
        "\n",
        "prob_six= 1/6\n",
        "prob_six_twice = prob_six * prob_six\n",
        "print(prob_six_twice)"
      ],
      "metadata": {
        "colab": {
          "base_uri": "https://localhost:8080/"
        },
        "id": "-yVoxzHWEaB0",
        "outputId": "5edcd55b-824e-4f0b-94a6-772d28ffb133"
      },
      "execution_count": 8,
      "outputs": [
        {
          "output_type": "stream",
          "name": "stdout",
          "text": [
            "0.027777777777777776\n"
          ]
        }
      ]
    },
    {
      "cell_type": "markdown",
      "source": [
        "cards without replacment"
      ],
      "metadata": {
        "id": "4eGFJ4W0FI8T"
      }
    },
    {
      "cell_type": "code",
      "source": [
        "# Task 6: Calculate the probability of drawing two red cards without replace-\n",
        "# ment from a deck (26 red cards, 52 total). Print the result."
      ],
      "metadata": {
        "id": "TOsdff5kFO5w"
      },
      "execution_count": null,
      "outputs": []
    },
    {
      "cell_type": "code",
      "source": [
        "total_cards = 52\n",
        "red_cards = 26\n",
        "\n",
        "prob_first_red = red_cards / total_cards\n",
        "prob_second_red = (red_cards - 1) / (total_cards - 1)\n",
        "\n",
        "prob_two_aces = prob_first_red * prob_second_red\n",
        "\n",
        "print(prob_two_aces)"
      ],
      "metadata": {
        "colab": {
          "base_uri": "https://localhost:8080/"
        },
        "id": "TSklZ7Q6FSJk",
        "outputId": "09cb34d0-def7-4a47-852b-89e0f4299a09"
      },
      "execution_count": 10,
      "outputs": [
        {
          "output_type": "stream",
          "name": "stdout",
          "text": [
            "0.24509803921568626\n"
          ]
        }
      ]
    }
  ]
}