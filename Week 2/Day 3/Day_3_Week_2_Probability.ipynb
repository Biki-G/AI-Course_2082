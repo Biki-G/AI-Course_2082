{
  "nbformat": 4,
  "nbformat_minor": 0,
  "metadata": {
    "colab": {
      "provenance": []
    },
    "kernelspec": {
      "name": "python3",
      "display_name": "Python 3"
    },
    "language_info": {
      "name": "python"
    }
  },
  "cells": [
    {
      "cell_type": "code",
      "execution_count": null,
      "metadata": {
        "id": "hown0jAL_fJa"
      },
      "outputs": [],
      "source": []
    },
    {
      "cell_type": "markdown",
      "source": [
        "# Hands-on Practice: Probability Basics for AI."
      ],
      "metadata": {
        "id": "3UIX8lsG_rZy"
      }
    },
    {
      "cell_type": "markdown",
      "source": [
        "Random"
      ],
      "metadata": {
        "id": "FkUgqmaSARiM"
      }
    },
    {
      "cell_type": "markdown",
      "source": [
        "EX_1. Theoritical Probability"
      ],
      "metadata": {
        "id": "lLEvQst2Emvu"
      }
    },
    {
      "cell_type": "code",
      "source": [
        "#declare favorable and total outcome while rolling 1 on dice!\n",
        "\n",
        "fav_out =1\n",
        "tot_out = 6\n",
        "\n",
        "probability = fav_out/tot_out\n",
        "\n",
        "print(\"Here The Probalitity for 1 is: \", probability)"
      ],
      "metadata": {
        "colab": {
          "base_uri": "https://localhost:8080/"
        },
        "id": "AWBWjbr_ErN5",
        "outputId": "7d139fe2-1b25-4481-d53e-cbb02a5a1223"
      },
      "execution_count": null,
      "outputs": [
        {
          "output_type": "stream",
          "name": "stdout",
          "text": [
            "Here The Probalitity for 1 is:  0.16666666666666666\n"
          ]
        }
      ]
    },
    {
      "cell_type": "markdown",
      "source": [
        "Experimental Probability"
      ],
      "metadata": {
        "id": "mrstryGoFNQC"
      }
    },
    {
      "cell_type": "code",
      "source": [
        "import random\n",
        "trials = 100\n",
        "heads = 0\n",
        "\n",
        "for _ in range(trials):\n",
        "  if random.choice([\"heads\", \"tails\"])==\"heads\":\n",
        "    heads+= 1\n",
        "    probability = heads/trails\n",
        "print(probability)\n"
      ],
      "metadata": {
        "colab": {
          "base_uri": "https://localhost:8080/"
        },
        "id": "jUtV6p68FRGh",
        "outputId": "cd9ee243-2651-47ed-ce2c-0de8b8742d78"
      },
      "execution_count": null,
      "outputs": [
        {
          "output_type": "stream",
          "name": "stdout",
          "text": [
            "0.48\n"
          ]
        }
      ]
    },
    {
      "cell_type": "code",
      "source": [
        "# to call a module random\n",
        "import random\n",
        "\n",
        "# Flip a coin probability test\n",
        "result = random.choice(['Heads', 'Tails'])\n",
        "print(\"Result of the coin toss:\", result)\n"
      ],
      "metadata": {
        "colab": {
          "base_uri": "https://localhost:8080/"
        },
        "id": "06Y5bnuAATgq",
        "outputId": "9d7d9fb1-52c0-4d6d-e40e-9d0f81de4c31"
      },
      "execution_count": null,
      "outputs": [
        {
          "output_type": "stream",
          "name": "stdout",
          "text": [
            "Result of the coin toss: Heads\n"
          ]
        }
      ]
    },
    {
      "cell_type": "markdown",
      "source": [
        "Conditional Probability"
      ],
      "metadata": {
        "id": "Sb4ZM1IpHW89"
      }
    },
    {
      "cell_type": "code",
      "source": [
        "face_cards = 12\n",
        "king = 4\n",
        "cond_prob = king/face_cards\n",
        "print(\"probability of getting king given it is a face card is: \", cond_prob)"
      ],
      "metadata": {
        "colab": {
          "base_uri": "https://localhost:8080/"
        },
        "id": "DBjjhTvIHaxz",
        "outputId": "b418c0ee-8c58-4259-8637-316bc0a4f4b8"
      },
      "execution_count": null,
      "outputs": [
        {
          "output_type": "stream",
          "name": "stdout",
          "text": [
            "probability of getting king given it is a face card is:  0.3333333333333333\n"
          ]
        }
      ]
    },
    {
      "cell_type": "markdown",
      "source": [
        "#Assingnment In Class"
      ],
      "metadata": {
        "id": "-mdaqeBDHxB8"
      }
    },
    {
      "cell_type": "markdown",
      "source": [
        "1. 52 cards"
      ],
      "metadata": {
        "id": "3AsyTyP-H4MD"
      }
    },
    {
      "cell_type": "markdown",
      "source": [
        "#Ex_4 Addition Rule"
      ],
      "metadata": {
        "id": "G7kWiPPJLIV6"
      }
    },
    {
      "cell_type": "code",
      "source": [
        "#mutuality exclusive events\n",
        "\n",
        "prob_even = 3/6 #in a dice\n",
        "prob_one = 1/6 #in a dice\n",
        "\n",
        "prob_even_or_one = prob_even + prob_one\n",
        "print(prob_even_or_one)"
      ],
      "metadata": {
        "colab": {
          "base_uri": "https://localhost:8080/"
        },
        "id": "57wCcmVfLLif",
        "outputId": "a5917277-0f4c-409b-f47d-e11962a3d344"
      },
      "execution_count": null,
      "outputs": [
        {
          "output_type": "stream",
          "name": "stdout",
          "text": [
            "0.6666666666666666\n"
          ]
        }
      ]
    },
    {
      "cell_type": "markdown",
      "source": [
        "Ex_5: Multiplication Rule: independent events"
      ],
      "metadata": {
        "id": "GoEdMmMVLzQ_"
      }
    },
    {
      "cell_type": "code",
      "source": [
        "#for independent events, the probalility of both occuring is\n",
        "\n",
        "prob_head = 0.5\n",
        "prob_two_heads = prob_head * prob_head\n",
        "print(prob_two_heads)\n"
      ],
      "metadata": {
        "colab": {
          "base_uri": "https://localhost:8080/"
        },
        "id": "_FFn3OHjL761",
        "outputId": "4c04864f-4081-4dc7-da5d-944bf3607d29"
      },
      "execution_count": null,
      "outputs": [
        {
          "output_type": "stream",
          "name": "stdout",
          "text": [
            "0.25\n"
          ]
        }
      ]
    },
    {
      "cell_type": "markdown",
      "source": [],
      "metadata": {
        "id": "0qfXaxSvMkDn"
      }
    },
    {
      "cell_type": "markdown",
      "source": [
        "Ex_6: Dependent Events"
      ],
      "metadata": {
        "id": "ObuP0Xr6Mi1x"
      }
    },
    {
      "cell_type": "code",
      "source": [
        "#if drawn cards are not replace in books. i.e. 51 cards, ace cards are 3\n",
        "total_cards = 52\n",
        "ace_cards = 4\n",
        "\n",
        "prob_first_ace = ace_cards / total_cards\n",
        "prob_second_ace = (ace_cards - 1)/ (total_cards - 1)\n",
        "prob_two_aces = prob_first_ace * prob_second_ace\n",
        "\n",
        "print(prob_two_aces)"
      ],
      "metadata": {
        "colab": {
          "base_uri": "https://localhost:8080/"
        },
        "id": "_2NhdP7yMrhz",
        "outputId": "7cc07881-fa4e-4a27-c70a-a5cd988a789c"
      },
      "execution_count": null,
      "outputs": [
        {
          "output_type": "stream",
          "name": "stdout",
          "text": [
            "0.004524886877828055\n"
          ]
        }
      ]
    },
    {
      "cell_type": "code",
      "source": [
        "#conditional probability\n",
        "\n",
        "total_days = 100\n",
        "rainy_days = 30\n",
        "umbr_days = 25\n",
        "\n",
        "cond_prob = umbr_days/rainy_days\n",
        "\n",
        "print(\"probability of carrying an umbrella is: \", cond_prob)\n"
      ],
      "metadata": {
        "colab": {
          "base_uri": "https://localhost:8080/"
        },
        "id": "CPOfd4nPJEWg",
        "outputId": "2d6dd6cc-0a21-41ec-95e9-20eb29a75e5d"
      },
      "execution_count": null,
      "outputs": [
        {
          "output_type": "stream",
          "name": "stdout",
          "text": [
            "probability of carrying an umbrella is:  0.8333333333333334\n"
          ]
        }
      ]
    },
    {
      "cell_type": "markdown",
      "source": [
        "100 coil flips count"
      ],
      "metadata": {
        "id": "uEupbXb9Pf4f"
      }
    },
    {
      "cell_type": "code",
      "source": [
        "import random\n",
        "\n",
        "# Number of flips\n",
        "flips = 100\n",
        "heads = 0\n",
        "tails = 0\n",
        "\n",
        "for _ in range(flips):\n",
        "    if random.choice(['Heads', 'Tails']) == 'Heads':\n",
        "        heads += 1\n",
        "    else:\n",
        "        tails += 1\n",
        "\n",
        "print(\"Heads:\", heads)\n",
        "print(\"Tails:\", tails)\n"
      ],
      "metadata": {
        "colab": {
          "base_uri": "https://localhost:8080/"
        },
        "id": "b_65tUBBA7hE",
        "outputId": "a557d612-a742-4f0e-c3fc-de2edae92b29"
      },
      "execution_count": null,
      "outputs": [
        {
          "output_type": "stream",
          "name": "stdout",
          "text": [
            "Heads: 47\n",
            "Tails: 53\n"
          ]
        }
      ]
    },
    {
      "cell_type": "markdown",
      "source": [
        "Random choice from a list"
      ],
      "metadata": {
        "id": "xcc80O6sBfmJ"
      }
    },
    {
      "cell_type": "code",
      "source": [
        "# using rand.choice\n",
        "fruits = ['apple', 'samsung', 'mi', 'nokia']\n",
        "choice = random.choice(fruits)\n",
        "print(\"Random brand:\", choice)\n"
      ],
      "metadata": {
        "colab": {
          "base_uri": "https://localhost:8080/"
        },
        "id": "XdX0G0mwBkV-",
        "outputId": "d12478f1-813c-48a0-f4fd-a1eafb082df5"
      },
      "execution_count": null,
      "outputs": [
        {
          "output_type": "stream",
          "name": "stdout",
          "text": [
            "Random brand: apple\n"
          ]
        }
      ]
    },
    {
      "cell_type": "markdown",
      "source": [
        "Random with Dice"
      ],
      "metadata": {
        "id": "fHoMQCiRB_uK"
      }
    },
    {
      "cell_type": "code",
      "source": [
        "#Dice roll using randint (random integer)\n",
        "import random\n",
        "\n",
        "roll = random.randint(1, 6)\n",
        "print(\"You rolled a:\", roll)\n"
      ],
      "metadata": {
        "colab": {
          "base_uri": "https://localhost:8080/"
        },
        "id": "tpVIoHFZCC6w",
        "outputId": "4cca384c-77d5-407f-f9c9-0535e7aebe3b"
      },
      "execution_count": null,
      "outputs": [
        {
          "output_type": "stream",
          "name": "stdout",
          "text": [
            "You rolled a: 2\n"
          ]
        }
      ]
    },
    {
      "cell_type": "markdown",
      "source": [],
      "metadata": {
        "id": "H1sUWsN0_vFu"
      }
    }
  ]
}